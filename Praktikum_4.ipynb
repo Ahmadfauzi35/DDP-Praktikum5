{
  "nbformat": 4,
  "nbformat_minor": 0,
  "metadata": {
    "colab": {
      "provenance": [],
      "authorship_tag": "ABX9TyOM6aSazUAmxnGe25OgTf8Q",
      "include_colab_link": true
    },
    "kernelspec": {
      "name": "python3",
      "display_name": "Python 3"
    },
    "language_info": {
      "name": "python"
    }
  },
  "cells": [
    {
      "cell_type": "markdown",
      "metadata": {
        "id": "view-in-github",
        "colab_type": "text"
      },
      "source": [
        "<a href=\"https://colab.research.google.com/github/Ahmadfauzi35/DDP-Praktikum5/blob/main/Praktikum_4.ipynb\" target=\"_parent\"><img src=\"https://colab.research.google.com/assets/colab-badge.svg\" alt=\"Open In Colab\"/></a>"
      ]
    },
    {
      "cell_type": "markdown",
      "source": [],
      "metadata": {
        "id": "8usksvBPbUi_"
      }
    },
    {
      "cell_type": "code",
      "source": [
        "a = 'aku'\n",
        "belanja = \"Rp100.000\"\n",
        "\n",
        "if (belanja > \"Rp50.000\"):\n",
        " keterangan = 'belanja cukup'\n",
        "else:\n",
        " keterangan = 'belanja berlebih'\n",
        "print(a,'belanja hari ini sebesar', belanja, keterangan)"
      ],
      "metadata": {
        "colab": {
          "base_uri": "https://localhost:8080/"
        },
        "id": "lVjJRNHsbd72",
        "outputId": "1c2920e3-1a10-48c4-ea36-9c56dbed27dc"
      },
      "execution_count": null,
      "outputs": [
        {
          "output_type": "stream",
          "name": "stdout",
          "text": [
            "aku belanja hari ini sebesar Rp100.000 belanja berlebih\n"
          ]
        }
      ]
    },
    {
      "cell_type": "code",
      "source": [
        "x = 'saya'\n",
        "kecepatan = \"10km/h\"\n",
        "\n",
        "if (kecepatan < \"13km/h\"):\n",
        " keterangan = 'kecepatan melambat'\n",
        "else:\n",
        " keterangan = 'kecepatan bertambah'\n",
        "print('kecepatan saat berlari', x, kecepatan , keterangan)"
      ],
      "metadata": {
        "colab": {
          "base_uri": "https://localhost:8080/"
        },
        "id": "_kKtlGdQfpO7",
        "outputId": "d572473f-adf3-4157-e0d7-9aa7de79b998"
      },
      "execution_count": null,
      "outputs": [
        {
          "output_type": "stream",
          "name": "stdout",
          "text": [
            "kecepatan saat berlari saya 10km/h kecepatan melambat\n"
          ]
        }
      ]
    },
    {
      "cell_type": "code",
      "source": [
        "nama = 'joko'\n",
        "alattulis = 10\n",
        "\n",
        "if (alattulis >= 15):\n",
        " ket = 'lengkap'\n",
        "elif (alattulis == 10):\n",
        " ket = 'cukup'\n",
        "else:\n",
        " ket = 'kurang'\n",
        "\n",
        "print('total', 'alat tulis', nama, alattulis, ket)"
      ],
      "metadata": {
        "colab": {
          "base_uri": "https://localhost:8080/"
        },
        "id": "K-xwiv1fnLUG",
        "outputId": "b6e4f823-6ea0-40cb-8e31-15a675d04e16"
      },
      "execution_count": null,
      "outputs": [
        {
          "output_type": "stream",
          "name": "stdout",
          "text": [
            "total alat tulis joko 10 cukup\n"
          ]
        }
      ]
    },
    {
      "cell_type": "code",
      "source": [
        "# variabel tugas DDP\n",
        "nama = 'Ahmad Fauzi'\n",
        "prodi = 'Sistem Informasi'\n",
        "nim = '0110123196'\n",
        "matkul = 'DDP'\n",
        "nilai = 95\n",
        "\n",
        "if (nilai >= 90):\n",
        " ket = 'maka gradenya A'\n",
        "elif (nilai > 80):\n",
        " ket = 'maka gradenya B'\n",
        "elif (nilai > 70):\n",
        " ket = 'maka gradenya C'\n",
        "else:\n",
        " ket = 'maka gradenya D'\n",
        "\n",
        "print('ulangan', nama, 'bernilai', nilai, ket)"
      ],
      "metadata": {
        "colab": {
          "base_uri": "https://localhost:8080/"
        },
        "id": "i4KQYj-SslIh",
        "outputId": "e5b0a552-041d-40b9-b43f-fed0a0f9273a"
      },
      "execution_count": null,
      "outputs": [
        {
          "output_type": "stream",
          "name": "stdout",
          "text": [
            "ulangan Ahmad Fauzi bernilai 95 maka gradenya A\n"
          ]
        }
      ]
    }
  ]
}