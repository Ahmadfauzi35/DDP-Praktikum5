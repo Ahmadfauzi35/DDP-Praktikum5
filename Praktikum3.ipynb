{
  "nbformat": 4,
  "nbformat_minor": 0,
  "metadata": {
    "colab": {
      "provenance": [],
      "authorship_tag": "ABX9TyO1eGhE+0sbpMNg8mUsl2Lh",
      "include_colab_link": true
    },
    "kernelspec": {
      "name": "python3",
      "display_name": "Python 3"
    },
    "language_info": {
      "name": "python"
    }
  },
  "cells": [
    {
      "cell_type": "markdown",
      "metadata": {
        "id": "view-in-github",
        "colab_type": "text"
      },
      "source": [
        "<a href=\"https://colab.research.google.com/github/Ahmadfauzi35/DDP-Praktikum5/blob/main/Praktikum3.ipynb\" target=\"_parent\"><img src=\"https://colab.research.google.com/assets/colab-badge.svg\" alt=\"Open In Colab\"/></a>"
      ]
    },
    {
      "cell_type": "code",
      "source": [
        "nama = \"ahmad fauzi\"\n",
        "nim = \"0110123196\"\n",
        "kelas = \"SI03\"\n",
        "no_telpon = \"087755812623\"\n",
        "alamat = '''Kampung Perigi, Bojonggede'''\n",
        "\n",
        "print(nama)\n",
        "print(nim)\n",
        "print(kelas)\n",
        "print(no_telpon)\n",
        "print(alamat)"
      ],
      "metadata": {
        "colab": {
          "base_uri": "https://localhost:8080/"
        },
        "id": "xH9h-0vsqCS7",
        "outputId": "6afdd764-6dcd-4389-af1d-7f07c69689d1"
      },
      "execution_count": null,
      "outputs": [
        {
          "output_type": "stream",
          "name": "stdout",
          "text": [
            "ahmad fauzi\n",
            "0110123196\n",
            "SI03\n",
            "087755812623\n",
            "Kampung Perigi, Bojonggede\n"
          ]
        }
      ]
    },
    {
      "cell_type": "code",
      "source": [
        "nama = \"afif ramadhan\"\n",
        "nim = \"0110123170\"\n",
        "kelas = \"SI03\"\n",
        "no_telpon = \"081364485205\"\n",
        "alamat ='''Gang Arus'''\n",
        "\n",
        "\n",
        "print(nama)\n",
        "print(nim)\n",
        "print(kelas)\n",
        "print(no_telpon)\n",
        "print(alamat)"
      ],
      "metadata": {
        "colab": {
          "base_uri": "https://localhost:8080/"
        },
        "id": "TJpVrNn0u3QT",
        "outputId": "7fc8f6a8-cd4c-49de-c209-18d1dc244119"
      },
      "execution_count": null,
      "outputs": [
        {
          "output_type": "stream",
          "name": "stdout",
          "text": [
            "afif ramadhan\n",
            "0110123170\n",
            "SI03\n",
            "081364485205\n",
            "Gang Arus\n"
          ]
        }
      ]
    },
    {
      "cell_type": "code",
      "source": [
        "tinggi_badan = 175\n",
        "\n",
        "tinggi_badan_ideal = tinggi_badan - 100\n",
        "print(f\"berat badan saya adalah : {tinggi_badan_ideal}\")\n",
        "#tinggi - 100 * 0.1"
      ],
      "metadata": {
        "colab": {
          "base_uri": "https://localhost:8080/"
        },
        "id": "BPct-ahHw6sk",
        "outputId": "732d9f95-c9e8-41ae-dc9e-c034211ed81f"
      },
      "execution_count": null,
      "outputs": [
        {
          "output_type": "stream",
          "name": "stdout",
          "text": [
            "berat badan saya adalah : 75\n"
          ]
        }
      ]
    },
    {
      "cell_type": "code",
      "source": [
        "celcius = 31\n",
        "\n",
        "#fahreinheit sebagai variabel perhitungan celcius\n",
        "fahreinheit = (celcius * 9/5) + 32\n",
        "\n",
        "print(f\"jadi fahreinheit dari 31 celcius adalah :{fahreinheit}\")"
      ],
      "metadata": {
        "colab": {
          "base_uri": "https://localhost:8080/"
        },
        "id": "bb1LP1xpz6gX",
        "outputId": "58461ec7-949d-4397-b543-b81ec7511ac4"
      },
      "execution_count": null,
      "outputs": [
        {
          "output_type": "stream",
          "name": "stdout",
          "text": [
            "jadi fahreinheit dari 31 celcius adalah :87.8\n"
          ]
        }
      ]
    },
    {
      "cell_type": "code",
      "source": [
        "jarijari = 7\n",
        "tinggi = 14\n",
        "\n",
        "# pi= 22/7 atau 3.14\n",
        "luas_permukaan = 2 * 22/7 * jarijari * (jarijari+tinggi)\n",
        "\n",
        " #menghitung keliling alas tabung\n",
        "keliling_alas = 2 * 22/7 * jarijari\n",
        "\n",
        "# menampilkan hasil\n",
        "print(f\"Luas permukaan tabung adalah: {luas_permukaan: 2f} satuan luas\")\n",
        "print(f\"Keliling alas tabung adalah: {keliling_alas: 2f} satuan panjang\")"
      ],
      "metadata": {
        "colab": {
          "base_uri": "https://localhost:8080/"
        },
        "id": "fNI6-1Eb1_cM",
        "outputId": "7483d9b5-1eb7-44de-ddea-97bcef413586"
      },
      "execution_count": null,
      "outputs": [
        {
          "output_type": "stream",
          "name": "stdout",
          "text": [
            "Luas permukaan tabung adalah:  924.000000 satuan luas\n",
            "Keliling alas tabung adalah:  44.000000 satuan panjang\n"
          ]
        }
      ]
    }
  ]
}