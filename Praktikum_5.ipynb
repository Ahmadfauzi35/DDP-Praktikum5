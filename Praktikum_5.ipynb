{
  "nbformat": 4,
  "nbformat_minor": 0,
  "metadata": {
    "colab": {
      "provenance": [],
      "authorship_tag": "ABX9TyPV7krTa98Whk/t/c6Jp1xH",
      "include_colab_link": true
    },
    "kernelspec": {
      "name": "python3",
      "display_name": "Python 3"
    },
    "language_info": {
      "name": "python"
    }
  },
  "cells": [
    {
      "cell_type": "markdown",
      "metadata": {
        "id": "view-in-github",
        "colab_type": "text"
      },
      "source": [
        "<a href=\"https://colab.research.google.com/github/Ahmadfauzi35/DDP-Praktikum5/blob/main/Praktikum_5.ipynb\" target=\"_parent\"><img src=\"https://colab.research.google.com/assets/colab-badge.svg\" alt=\"Open In Colab\"/></a>"
      ]
    },
    {
      "cell_type": "code",
      "execution_count": null,
      "metadata": {
        "colab": {
          "base_uri": "https://localhost:8080/"
        },
        "id": "sTOyRaCjrBA5",
        "outputId": "e23afc53-b49e-438c-fee7-39357e2ca834"
      },
      "outputs": [
        {
          "output_type": "stream",
          "name": "stdout",
          "text": [
            "['Nissan GTR', 'mobil', '3800cc', 'black', 'roda empat']\n",
            "['Nissan GTR', 'mobil', '3800cc', 'black', 'roda empat', 'Rp 3.930.000.000', 'GTR R35']\n",
            "['Nissan GTR', 'mobil', 'Nissan', '3800cc', 'black', 'roda empat', 'Rp 3.930.000.000', 'GTR R35']\n"
          ]
        }
      ],
      "source": [
        "#append dan insert\n",
        "\n",
        "kendaraan = [\"Nissan GTR\",\"mobil\",\"3800cc\",\"black\",\"roda empat\"]\n",
        "\n",
        "print(kendaraan)\n",
        "\n",
        "kendaraan.append(\"Rp 3.930.000.000\")\n",
        "kendaraan.append(\"GTR R35\")\n",
        "\n",
        "print(kendaraan)\n",
        "\n",
        "kendaraan.insert(2,\"Nissan\")\n",
        "\n",
        "print(kendaraan)"
      ]
    },
    {
      "cell_type": "markdown",
      "source": [
        "# Bagian Baru"
      ],
      "metadata": {
        "id": "Z0q59N7x3BGq"
      }
    },
    {
      "cell_type": "code",
      "source": [
        "#Match Case\n",
        "ket = '''selamat datang di aplikasi menghitung luas bangun datar\n",
        "masukan pilihan:\n",
        "1. untuk menghitung luas persegi\n",
        "2. untuk menghitung luas lingkaran\n",
        "3. untuk menghitung luas segitiga\n",
        "'''\n",
        "\n",
        "pilih = input(ket)\n",
        "\n",
        "match pilih:\n",
        " case \"1\":\n",
        "  print(\"kamu milih 1 untuk menghitung luas persegi\")\n",
        "  sisi = int(input(\"masukkan sisi?\"))\n",
        "  luasP = sisi*sisi\n",
        "  print(\"Luas persegi yang sisinya\",sisi, \"adalah\" ,luasP)\n",
        "\n",
        " case \"2\":\n",
        "  print(\"kamu milih 2 untuk menghitung luas lingkaran\")\n",
        "  jari2 = float(input(\"masukkan jari-jari?\"))\n",
        "  luasL = 3.14 * jari2 * jari2\n",
        "  print(\"luas lingkaran yang jari-jarinya\", jari2, \"adalah\", int(luasL))\n",
        "\n",
        " case \"3\":\n",
        "  print(\"kamu milih 3 untuk menghitung luas segitiga\")\n",
        "  alas = int(input(\"masukkan alas?\"))\n",
        "  tinggi= int(input(\"masukkan tinggi?\"))\n",
        "  luasS= 0.5 * alas * tinggi\n",
        "  print(\"luas segitiga yang alasnya\", alas, \"dan tingginya\", tinggi, \"adalah\", int(luasS))\n",
        " case _:\n",
        "  print(\"salah memilih pilihan\")"
      ],
      "metadata": {
        "colab": {
          "base_uri": "https://localhost:8080/"
        },
        "id": "FcBslSUm_ENN",
        "outputId": "1d3a3f2f-3b7a-4813-b342-6d7a26a18e54"
      },
      "execution_count": null,
      "outputs": [
        {
          "output_type": "stream",
          "name": "stdout",
          "text": [
            "selamat datang di aplikasi menghitung luas bangun datar\n",
            "masukan pilihan:\n",
            "1. untuk menghitung luas persegi \n",
            "2. untuk menghitung luas lingkaran\n",
            "3. untuk menghitung luas segitiga\n",
            "6\n",
            "salah memilih pilihan\n"
          ]
        }
      ]
    }
  ]
}