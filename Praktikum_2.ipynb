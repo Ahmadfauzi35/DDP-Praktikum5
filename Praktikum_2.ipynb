{
  "cells": [
    {
      "cell_type": "markdown",
      "metadata": {
        "id": "view-in-github",
        "colab_type": "text"
      },
      "source": [
        "<a href=\"https://colab.research.google.com/github/Ahmadfauzi35/DDP-Praktikum5/blob/main/Praktikum_2.ipynb\" target=\"_parent\"><img src=\"https://colab.research.google.com/assets/colab-badge.svg\" alt=\"Open In Colab\"/></a>"
      ]
    },
    {
      "cell_type": "code",
      "execution_count": null,
      "metadata": {
        "colab": {
          "base_uri": "https://localhost:8080/"
        },
        "id": "-9HYe8NXjWoy",
        "outputId": "e4ed8a2b-79fb-4203-dab9-0e704018b5d7"
      },
      "outputs": [
        {
          "output_type": "stream",
          "name": "stdout",
          "text": [
            "Nama : Ahmad Fauzi\n",
            "Nim : 0110123196\n",
            "Kelas : Rombel SI03\n",
            "Alamat :Kampung Perigi, Bojong Gede\n"
          ]
        }
      ],
      "source": [
        "#Data Pribadi\n",
        "print (\"Nama : Ahmad Fauzi\")\n",
        "print (\"Nim : 0110123196\")\n",
        "print (\"Kelas : Rombel SI03\")\n",
        "print (\"Alamat :Kampung Perigi, Bojong Gede\")"
      ]
    },
    {
      "cell_type": "code",
      "execution_count": null,
      "metadata": {
        "colab": {
          "base_uri": "https://localhost:8080/"
        },
        "id": "EAFhoPs6kuHK",
        "outputId": "7e383794-f769-486c-f15c-9f7ce91555ef"
      },
      "outputs": [
        {
          "output_type": "stream",
          "name": "stdout",
          "text": [
            "Nama : Afif Ramadhan\n",
            "Nim : 0110123170\n",
            "Kelas : Rombel SI03\n",
            "Alamat : GG. Arus\n"
          ]
        }
      ],
      "source": [
        "#Data Teman Sekelas\n",
        "print (\"Nama : Afif Ramadhan\")\n",
        "print (\"Nim : 0110123170\")\n",
        "print (\"Kelas : Rombel SI03\")\n",
        "print (\"Alamat : GG. Arus\")"
      ]
    },
    {
      "cell_type": "code",
      "execution_count": null,
      "metadata": {
        "colab": {
          "base_uri": "https://localhost:8080/"
        },
        "id": "ZBdclNhbleWv",
        "outputId": "599bb1fa-4fdb-41a2-9c6e-fce6511c287b"
      },
      "outputs": [
        {
          "output_type": "stream",
          "name": "stdout",
          "text": [
            "12\n"
          ]
        }
      ],
      "source": [
        "# Penjumlahan 2 bilagan\n",
        "print (5+7)"
      ]
    },
    {
      "cell_type": "code",
      "execution_count": null,
      "metadata": {
        "colab": {
          "base_uri": "https://localhost:8080/"
        },
        "id": "U4VW07ZWoz8t",
        "outputId": "9999c89c-0170-4ddf-9639-308f74b7e3b2"
      },
      "outputs": [
        {
          "output_type": "stream",
          "name": "stdout",
          "text": [
            "pengurangan dari bilangan di atas adalah 15\n"
          ]
        }
      ],
      "source": [
        "# Pengurangan 2 bilangan\n",
        "bilangan1 = 25\n",
        "bilangan2 = 10\n",
        "\n",
        "hasil = 25-10\n",
        "\n",
        "print(f\"pengurangan dari bilangan di atas adalah {hasil}\")"
      ]
    },
    {
      "cell_type": "code",
      "source": [
        "# Perkalian 2 bilangan\n",
        "print (5*31)"
      ],
      "metadata": {
        "colab": {
          "base_uri": "https://localhost:8080/"
        },
        "id": "40hhFFhetZrA",
        "outputId": "119bdbda-737a-48f0-9a7f-161f5affbbc1"
      },
      "execution_count": null,
      "outputs": [
        {
          "output_type": "stream",
          "name": "stdout",
          "text": [
            "155\n"
          ]
        }
      ]
    },
    {
      "cell_type": "code",
      "source": [
        "# Pembagian 2 bilangan\n",
        "print (25/5)"
      ],
      "metadata": {
        "colab": {
          "base_uri": "https://localhost:8080/"
        },
        "id": "vj69cCJdtmyr",
        "outputId": "7bf29b2b-effb-4e4d-c0b3-ae2d5a24a532"
      },
      "execution_count": null,
      "outputs": [
        {
          "output_type": "stream",
          "name": "stdout",
          "text": [
            "5.0\n"
          ]
        }
      ]
    }
  ],
  "metadata": {
    "colab": {
      "provenance": [],
      "include_colab_link": true
    },
    "kernelspec": {
      "display_name": "Python 3",
      "name": "python3"
    },
    "language_info": {
      "name": "python"
    }
  },
  "nbformat": 4,
  "nbformat_minor": 0
}